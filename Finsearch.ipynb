{
  "nbformat": 4,
  "nbformat_minor": 0,
  "metadata": {
    "colab": {
      "provenance": []
    },
    "kernelspec": {
      "name": "python3",
      "display_name": "Python 3"
    },
    "language_info": {
      "name": "python"
    }
  },
  "cells": [
    {
      "cell_type": "code",
      "execution_count": 1,
      "metadata": {
        "colab": {
          "base_uri": "https://localhost:8080/",
          "height": 106
        },
        "id": "lL8EELG4dsFs",
        "outputId": "2f17cdde-5143-4693-8b02-65795f89968a"
      },
      "outputs": [
        {
          "output_type": "error",
          "ename": "IndentationError",
          "evalue": "expected an indented block after function definition on line 5 (<ipython-input-1-f7b86f938b65>, line 8)",
          "traceback": [
            "\u001b[0;36m  File \u001b[0;32m\"<ipython-input-1-f7b86f938b65>\"\u001b[0;36m, line \u001b[0;32m8\u001b[0m\n\u001b[0;31m    def black_scholes_put(S, K, T, r, sigma):\u001b[0m\n\u001b[0m    ^\u001b[0m\n\u001b[0;31mIndentationError\u001b[0m\u001b[0;31m:\u001b[0m expected an indented block after function definition on line 5\n"
          ]
        }
      ],
      "source": [
        "import numpy as np\n",
        "import pandas as pd\n",
        "from scipy.stats import norm\n",
        "\n",
        "def black_scholes_call(S, K, T, r, sigma):\n",
        "  # ... (same as before)\n",
        "\n",
        "def black_scholes_put(S, K, T, r, sigma):\n",
        "  # ... (same as before)\n",
        "\n",
        "def calculate_percentage_error(model_price, real_price):\n",
        "  # ... (same as before)\n",
        "\n",
        "# Sample data (replace with actual data)\n",
        "data = {\n",
        "    'strike': [18000, 19000, 20000],\n",
        "    'implied_volatility': [0.2, 0.22, 0.25],\n",
        "    'call_price': [1000, 800, 600],\n",
        "    'put_price': [500, 700, 900]\n",
        "}\n",
        "df = pd.DataFrame(data)\n",
        "\n",
        "S = 19265.80  # Current price of Nifty50 index\n",
        "r = 0.10  # Risk-free interest rate\n",
        "T = 0.0164  # Time to expiration\n",
        "\n",
        "df['time_to_maturity'] = T\n",
        "df['bs_call_price'] = df.apply(lambda row: black_scholes_call(S, row['strike'], T, r, row['implied_volatility']), axis=1)\n",
        "df['bs_put_price'] = df.apply(lambda row: black_scholes_put(S, row['strike'], T, r, row['implied_volatility']), axis=1)\n",
        "df['call_error'] = df.apply(lambda row: calculate_percentage_error(row['bs_call_price'], row['call_price']), axis=1)\n",
        "df['put_error'] = df.apply(lambda row: calculate_percentage_error(row['bs_put_price'], row['put_price']), axis=1)\n",
        "\n",
        "print(df)"
      ]
    },
    {
      "cell_type": "code",
      "source": [
        "import numpy as np\n",
        "import pandas as pd\n",
        "from scipy.stats import norm\n",
        "\n",
        "def black_scholes_call(S, K, T, r, sigma):\n",
        "  # Add code here to calculate Black-Scholes call price\n",
        "  # For example:\n",
        "  d1 = (np.log(S / K) + (r + 0.5 * sigma ** 2) * T) / (sigma * np.sqrt(T))\n",
        "  d2 = d1 - sigma * np.sqrt(T)\n",
        "  return S * norm.cdf(d1) - K * np.exp(-r * T) * norm.cdf(d2)\n",
        "\n",
        "def black_scholes_put(S, K, T, r, sigma):\n",
        "  d1 = (np.log(S / K) + (r + 0.5 * sigma ** 2) * T) / (sigma * np.sqrt(T))\n",
        "  d2 = d1 - sigma * np.sqrt(T)\n",
        "  return K * np.exp(-r * T) * norm.cdf(-d2) - S * norm.cdf(-d1)\n",
        "\n",
        "def calculate_percentage_error(model_price, real_price):\n",
        "  if real_price == 0:\n",
        "    return float('inf')  # Return infinity if real price is zero to avoid division by zero\n",
        "  return abs((model_price - real_price) / real_price) * 100\n",
        "\n",
        "# Sample data (replace with actual data)\n",
        "data = {\n",
        "    'strike': [18000, 19000, 20000],\n",
        "    'implied_volatility': [0.2, 0.22, 0.25],\n",
        "    'call_price': [1000, 800, 600],\n",
        "    'put_price': [500, 700, 900]\n",
        "}\n",
        "df = pd.DataFrame(data)\n",
        "\n",
        "S = 19265.80  # Current price of Nifty50 index\n",
        "r = 0.10  # Risk-free interest rate\n",
        "T = 0.0164  # Time to expiration\n",
        "\n",
        "df['time_to_maturity'] = T\n",
        "df['bs_call_price'] = df.apply(lambda row: black_scholes_call(S, row['strike'], T, r, row['implied_volatility']), axis=1)\n",
        "df['bs_put_price'] = df.apply(lambda row: black_scholes_put(S, row['strike'], T, r, row['implied_volatility']), axis=1)\n",
        "df['call_error'] = df.apply(lambda row: calculate_percentage_error(row['bs_call_price'], row['call_price']), axis=1)\n",
        "df['put_error'] = df.apply(lambda row: calculate_percentage_error(row['bs_put_price'], row['put_price']), axis=1)\n",
        "\n",
        "print(df)"
      ],
      "metadata": {
        "colab": {
          "base_uri": "https://localhost:8080/"
        },
        "id": "2pu_6SQtd6eH",
        "outputId": "5da5633a-d677-4047-e332-4de163c71924"
      },
      "execution_count": 3,
      "outputs": [
        {
          "output_type": "stream",
          "name": "stdout",
          "text": [
            "   strike  implied_volatility  call_price  put_price  time_to_maturity  \\\n",
            "0   18000                0.20        1000        500            0.0164   \n",
            "1   19000                0.22         800        700            0.0164   \n",
            "2   20000                0.25         600        900            0.0164   \n",
            "\n",
            "   bs_call_price  bs_put_price  call_error  put_error  \n",
            "0    1295.772957      0.477150   29.577296  99.904570  \n",
            "1     395.181382     98.246919   50.602327  85.964726  \n",
            "2      41.658224    743.085106   93.056963  17.434988  \n"
          ]
        }
      ]
    }
  ]
}